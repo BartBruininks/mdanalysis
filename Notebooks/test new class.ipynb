{
 "cells": [
  {
   "cell_type": "code",
   "execution_count": 25,
   "metadata": {
    "collapsed": false
   },
   "outputs": [],
   "source": [
    "%matplotlib inline\n",
    "import matplotlib.pyplot as plt\n",
    "import numpy as np\n",
    "import MDAnalysis as mda\n",
    "from MDAnalysisTests.datafiles import PSF, DCD\n",
    "from MDAnalysis.analysis import contacts"
   ]
  },
  {
   "cell_type": "markdown",
   "metadata": {},
   "source": [
    "This document should go through the different use cases the new contacts class can be used for and how flexible it is. I think this is a good way to show each other what is and what isn't possible with this class right now. I also plan to use this notebook as a basis to write docs and tests.\n",
    "\n",
    "\n",
    "\n",
    "# Native Contact Analysis\n",
    "\n",
    "Typical Native Contact Analysis that @jandom had in my for this class"
   ]
  },
  {
   "cell_type": "code",
   "execution_count": 2,
   "metadata": {
    "collapsed": true
   },
   "outputs": [],
   "source": [
    "u = mda.Universe(PSF, DCD)"
   ]
  },
  {
   "cell_type": "code",
   "execution_count": 23,
   "metadata": {
    "collapsed": true
   },
   "outputs": [],
   "source": [
    "sel_basic = \"(resname ARG or resname LYS) and (name NH* or name NZ)\"\n",
    "sel_acidic = \"(resname ASP or resname GLU) and (name OE* or name OD*)\"\n",
    "\n",
    "acidic = u.select_atoms(sel_acidic)\n",
    "basic = u.select_atoms(sel_basic)"
   ]
  },
  {
   "cell_type": "code",
   "execution_count": 10,
   "metadata": {
    "collapsed": true
   },
   "outputs": [],
   "source": [
    "nc = contacts.Contacts(u, selection=(sel_acidic, sel_basic),\n",
    "                       refgroup=(acidic, basic))"
   ]
  },
  {
   "cell_type": "code",
   "execution_count": 11,
   "metadata": {
    "collapsed": true
   },
   "outputs": [],
   "source": [
    "nc.run()"
   ]
  },
  {
   "cell_type": "code",
   "execution_count": 20,
   "metadata": {
    "collapsed": false
   },
   "outputs": [],
   "source": [
    "f_contacts = np.asarray(nc.timeseries)[:, 1]\n",
    "frames = np.asarray(nc.timeseries)[:, 0]"
   ]
  },
  {
   "cell_type": "code",
   "execution_count": 22,
   "metadata": {
    "collapsed": false
   },
   "outputs": [
    {
     "data": {
      "image/png": "[encoded data removed]",
      "text/plain": [
       "<matplotlib.figure.Figure at 0x7f60dac4eb10>"
      ]
     },
     "metadata": {},
     "output_type": "display_data"
    }
   ],
   "source": [
    "f, ax = plt.subplots()\n",
    "\n",
    "ax.plot(frames, f_contacts)\n",
    "ax.set(xlabel='frame', ylabel='Ratio of contacts',\n",
    "       title='Native Contacts, Ave = {}'.format(np.mean(f_contacts)))\n",
    "\n",
    "plt.tight_layout()"
   ]
  },
  {
   "cell_type": "markdown",
   "metadata": {},
   "source": [
    "# Binding Analysis\n",
    "\n",
    "Contacts can also be good to find out if two proteins have bound. We don't necessarily want to know how deep into the binding pocket the ligand is by just looking at the fraction of contacts but by checking if at least one contact in the binding pocket is below a certain distance.\n",
    "\n",
    "Here we just use such a method as a very simple decider if a protein is folded or not."
   ]
  },
  {
   "cell_type": "code",
   "execution_count": 47,
   "metadata": {
    "collapsed": true
   },
   "outputs": [],
   "source": [
    "def min_distance(r, r0, dist=3):\n",
    "    return np.any(r <= dist)"
   ]
  },
  {
   "cell_type": "code",
   "execution_count": 55,
   "metadata": {
    "collapsed": true
   },
   "outputs": [],
   "source": [
    "nc = contacts.Contacts(u, selection=(sel_acidic, sel_basic), \n",
    "                       method=min_distance,\n",
    "                       refgroup=(acidic, basic), dist=2.5)"
   ]
  },
  {
   "cell_type": "code",
   "execution_count": 56,
   "metadata": {
    "collapsed": false
   },
   "outputs": [],
   "source": [
    "nc.run()"
   ]
  },
  {
   "cell_type": "code",
   "execution_count": 57,
   "metadata": {
    "collapsed": false
   },
   "outputs": [],
   "source": [
    "folded = np.asarray(nc.timeseries)[:, 1]\n",
    "frames = np.asarray(nc.timeseries)[:, 0]"
   ]
  },
  {
   "cell_type": "code",
   "execution_count": 61,
   "metadata": {
    "collapsed": false
   },
   "outputs": [
    {
     "data": {
      "image/png": "[encoded data removed]",
      "text/plain": [
       "<matplotlib.figure.Figure at 0x7f60da23f810>"
      ]
     },
     "metadata": {},
     "output_type": "display_data"
    }
   ],
   "source": [
    "f, ax = plt.subplots()\n",
    "\n",
    "ax.plot(frames, folded, '.')\n",
    "ax.set(xlabel='frame', ylabel='is Folded',\n",
    "       title='Folded?',\n",
    "       ylim=(-0.1, 1.1))\n",
    "\n",
    "plt.tight_layout()"
   ]
  },
  {
   "cell_type": "code",
   "execution_count": null,
   "metadata": {
    "collapsed": true
   },
   "outputs": [],
   "source": []
  },
  {
   "cell_type": "code",
   "execution_count": null,
   "metadata": {
    "collapsed": true
   },
   "outputs": [],
   "source": []
  },
  {
   "cell_type": "code",
   "execution_count": null,
   "metadata": {
    "collapsed": true
   },
   "outputs": [],
   "source": []
  },
  {
   "cell_type": "code",
   "execution_count": null,
   "metadata": {
    "collapsed": true
   },
   "outputs": [],
   "source": []
  },
  {
   "cell_type": "code",
   "execution_count": null,
   "metadata": {
    "collapsed": true
   },
   "outputs": [],
   "source": []
  }
 ],
 "metadata": {
  "kernelspec": {
   "display_name": "Python 2",
   "language": "python",
   "name": "python2"
  },
  "language_info": {
   "codemirror_mode": {
    "name": "ipython",
    "version": 2
   },
   "file_extension": ".py",
   "mimetype": "text/x-python",
   "name": "python",
   "nbconvert_exporter": "python",
   "pygments_lexer": "ipython2",
   "version": "2.7.11"
  }
 },
 "nbformat": 4,
 "nbformat_minor": 0
}
